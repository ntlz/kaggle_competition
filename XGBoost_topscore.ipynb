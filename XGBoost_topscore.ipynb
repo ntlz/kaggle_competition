{
 "cells": [
  {
   "cell_type": "code",
   "execution_count": 1,
   "metadata": {
    "collapsed": true
   },
   "outputs": [],
   "source": [
    "import pandas as pd\n",
    "import numpy as np\n",
    "import matplotlib.pyplot as plt\n",
    "import scipy\n",
    "\n",
    "%matplotlib inline\n",
    "\n",
    "plt.style.use('seaborn-deep')\n",
    "plt.rcParams['figure.figsize'] = (12,8)"
   ]
  },
  {
   "cell_type": "code",
   "execution_count": 2,
   "metadata": {
    "collapsed": true
   },
   "outputs": [],
   "source": [
    "df_train = pd.read_csv('train.tsv', sep='\\t', index_col=0)\n",
    "df_test = pd.read_csv('test_nolabel.tsv', sep='\\t', index_col=0)"
   ]
  },
  {
   "cell_type": "code",
   "execution_count": 3,
   "metadata": {},
   "outputs": [
    {
     "data": {
      "text/html": [
       "<div>\n",
       "<style scoped>\n",
       "    .dataframe tbody tr th:only-of-type {\n",
       "        vertical-align: middle;\n",
       "    }\n",
       "\n",
       "    .dataframe tbody tr th {\n",
       "        vertical-align: top;\n",
       "    }\n",
       "\n",
       "    .dataframe thead th {\n",
       "        text-align: right;\n",
       "    }\n",
       "</style>\n",
       "<table border=\"1\" class=\"dataframe\">\n",
       "  <thead>\n",
       "    <tr style=\"text-align: right;\">\n",
       "      <th></th>\n",
       "      <th>category_id</th>\n",
       "      <th>city</th>\n",
       "      <th>date_created</th>\n",
       "      <th>delivery_available</th>\n",
       "      <th>desc_text</th>\n",
       "      <th>img_num</th>\n",
       "      <th>lat</th>\n",
       "      <th>long</th>\n",
       "      <th>name_text</th>\n",
       "      <th>owner_id</th>\n",
       "      <th>payment_available</th>\n",
       "      <th>price</th>\n",
       "      <th>product_id</th>\n",
       "      <th>product_type</th>\n",
       "      <th>properties</th>\n",
       "      <th>region</th>\n",
       "      <th>sold_mode</th>\n",
       "      <th>subcategory_id</th>\n",
       "      <th>sold_fast</th>\n",
       "    </tr>\n",
       "  </thead>\n",
       "  <tbody>\n",
       "    <tr>\n",
       "      <th>1</th>\n",
       "      <td>4</td>\n",
       "      <td>Краснодар</td>\n",
       "      <td>2018-10-08</td>\n",
       "      <td>False</td>\n",
       "      <td>Продаю стол раскладной, деревянный, советский ...</td>\n",
       "      <td>3</td>\n",
       "      <td>45.0686</td>\n",
       "      <td>38.9518</td>\n",
       "      <td>Стол</td>\n",
       "      <td>4ce583fe8231a0cc4a3c7d241c7d0289</td>\n",
       "      <td>True</td>\n",
       "      <td>500.0</td>\n",
       "      <td>8cb80c05c65c210275f5500779d6b593</td>\n",
       "      <td>1</td>\n",
       "      <td>[{'slug_id': 'stoly_stulya_tip', 'slug_name': ...</td>\n",
       "      <td>Краснодарский край</td>\n",
       "      <td>1</td>\n",
       "      <td>410</td>\n",
       "      <td>1</td>\n",
       "    </tr>\n",
       "    <tr>\n",
       "      <th>2</th>\n",
       "      <td>4</td>\n",
       "      <td>Тюмень</td>\n",
       "      <td>2018-06-18</td>\n",
       "      <td>False</td>\n",
       "      <td>Тарелки глубокие 6 шт. Блюдца, чашки по 6 шт. ...</td>\n",
       "      <td>2</td>\n",
       "      <td>57.1840</td>\n",
       "      <td>65.5674</td>\n",
       "      <td>Посуда</td>\n",
       "      <td>e58be2c8f143c17246dc2243b5d3b98f</td>\n",
       "      <td>False</td>\n",
       "      <td>300.0</td>\n",
       "      <td>3b7a9f8b27a53b63525f95bc8070abb2</td>\n",
       "      <td>1</td>\n",
       "      <td>[{'slug_id': 'dom_dacha_posuda_tip', 'slug_nam...</td>\n",
       "      <td>Тюменская область</td>\n",
       "      <td>1</td>\n",
       "      <td>405</td>\n",
       "      <td>0</td>\n",
       "    </tr>\n",
       "    <tr>\n",
       "      <th>4</th>\n",
       "      <td>9</td>\n",
       "      <td>Омск</td>\n",
       "      <td>2018-07-31</td>\n",
       "      <td>True</td>\n",
       "      <td>Новый,с этикеткой. Размер L. Не подошёл по раз...</td>\n",
       "      <td>1</td>\n",
       "      <td>54.9889</td>\n",
       "      <td>73.4312</td>\n",
       "      <td>Костюм</td>\n",
       "      <td>51b408796027214232532b7e478e2159</td>\n",
       "      <td>True</td>\n",
       "      <td>1100.0</td>\n",
       "      <td>c97dd9c5a3e938c52cf5d7822bc0eb7b</td>\n",
       "      <td>1</td>\n",
       "      <td>[{'slug_id': 'zhenskaya_odezhda_pidzhaki_kosty...</td>\n",
       "      <td>Омская область</td>\n",
       "      <td>1</td>\n",
       "      <td>908</td>\n",
       "      <td>0</td>\n",
       "    </tr>\n",
       "    <tr>\n",
       "      <th>6</th>\n",
       "      <td>3</td>\n",
       "      <td>Санкт-Петербург</td>\n",
       "      <td>2018-04-17</td>\n",
       "      <td>False</td>\n",
       "      <td>Складывается тростью, все колеса вниз. Сплошна...</td>\n",
       "      <td>4</td>\n",
       "      <td>59.9590</td>\n",
       "      <td>30.4877</td>\n",
       "      <td>Коляска</td>\n",
       "      <td>6544b83acbbf04439a7ba983093cafb4</td>\n",
       "      <td>True</td>\n",
       "      <td>5000.0</td>\n",
       "      <td>3e5d0286b25fd7f62f88bc436a59ae4e</td>\n",
       "      <td>1</td>\n",
       "      <td>[{'slug_id': 'waggon_type', 'slug_name': 'Тип'...</td>\n",
       "      <td>Ленинградская область</td>\n",
       "      <td>1</td>\n",
       "      <td>312</td>\n",
       "      <td>0</td>\n",
       "    </tr>\n",
       "    <tr>\n",
       "      <th>10</th>\n",
       "      <td>5</td>\n",
       "      <td>Москва</td>\n",
       "      <td>2018-02-09</td>\n",
       "      <td>False</td>\n",
       "      <td>Неразлучники, птичкам по 1,5 года. Продаю с бо...</td>\n",
       "      <td>2</td>\n",
       "      <td>55.6473</td>\n",
       "      <td>37.4118</td>\n",
       "      <td>Волнистые попугаи</td>\n",
       "      <td>ea575e28daf1f47bfce63015cd3ce5cf</td>\n",
       "      <td>True</td>\n",
       "      <td>2000.0</td>\n",
       "      <td>57b4a8679d0d3eb1e31367b57221098f</td>\n",
       "      <td>1</td>\n",
       "      <td>[]</td>\n",
       "      <td>Московская область</td>\n",
       "      <td>1</td>\n",
       "      <td>504</td>\n",
       "      <td>0</td>\n",
       "    </tr>\n",
       "  </tbody>\n",
       "</table>\n",
       "</div>"
      ],
      "text/plain": [
       "    category_id             city date_created  delivery_available  \\\n",
       "1             4        Краснодар   2018-10-08               False   \n",
       "2             4           Тюмень   2018-06-18               False   \n",
       "4             9             Омск   2018-07-31                True   \n",
       "6             3  Санкт-Петербург   2018-04-17               False   \n",
       "10            5           Москва   2018-02-09               False   \n",
       "\n",
       "                                            desc_text  img_num      lat  \\\n",
       "1   Продаю стол раскладной, деревянный, советский ...        3  45.0686   \n",
       "2   Тарелки глубокие 6 шт. Блюдца, чашки по 6 шт. ...        2  57.1840   \n",
       "4   Новый,с этикеткой. Размер L. Не подошёл по раз...        1  54.9889   \n",
       "6   Складывается тростью, все колеса вниз. Сплошна...        4  59.9590   \n",
       "10  Неразлучники, птичкам по 1,5 года. Продаю с бо...        2  55.6473   \n",
       "\n",
       "       long          name_text                          owner_id  \\\n",
       "1   38.9518               Стол  4ce583fe8231a0cc4a3c7d241c7d0289   \n",
       "2   65.5674             Посуда  e58be2c8f143c17246dc2243b5d3b98f   \n",
       "4   73.4312             Костюм  51b408796027214232532b7e478e2159   \n",
       "6   30.4877            Коляска  6544b83acbbf04439a7ba983093cafb4   \n",
       "10  37.4118  Волнистые попугаи  ea575e28daf1f47bfce63015cd3ce5cf   \n",
       "\n",
       "    payment_available   price                        product_id  product_type  \\\n",
       "1                True   500.0  8cb80c05c65c210275f5500779d6b593             1   \n",
       "2               False   300.0  3b7a9f8b27a53b63525f95bc8070abb2             1   \n",
       "4                True  1100.0  c97dd9c5a3e938c52cf5d7822bc0eb7b             1   \n",
       "6                True  5000.0  3e5d0286b25fd7f62f88bc436a59ae4e             1   \n",
       "10               True  2000.0  57b4a8679d0d3eb1e31367b57221098f             1   \n",
       "\n",
       "                                           properties                 region  \\\n",
       "1   [{'slug_id': 'stoly_stulya_tip', 'slug_name': ...     Краснодарский край   \n",
       "2   [{'slug_id': 'dom_dacha_posuda_tip', 'slug_nam...      Тюменская область   \n",
       "4   [{'slug_id': 'zhenskaya_odezhda_pidzhaki_kosty...         Омская область   \n",
       "6   [{'slug_id': 'waggon_type', 'slug_name': 'Тип'...  Ленинградская область   \n",
       "10                                                 []     Московская область   \n",
       "\n",
       "    sold_mode  subcategory_id  sold_fast  \n",
       "1           1             410          1  \n",
       "2           1             405          0  \n",
       "4           1             908          0  \n",
       "6           1             312          0  \n",
       "10          1             504          0  "
      ]
     },
     "execution_count": 3,
     "metadata": {},
     "output_type": "execute_result"
    }
   ],
   "source": [
    "df_train.head()"
   ]
  },
  {
   "cell_type": "code",
   "execution_count": 4,
   "metadata": {
    "collapsed": true
   },
   "outputs": [],
   "source": [
    "X = df_train.drop(['sold_fast', 'properties', 'product_id', 'owner_id'], axis=1)\n",
    "y = df_train['sold_fast']"
   ]
  },
  {
   "cell_type": "code",
   "execution_count": null,
   "metadata": {
    "collapsed": true
   },
   "outputs": [],
   "source": []
  },
  {
   "cell_type": "code",
   "execution_count": 9,
   "metadata": {
    "collapsed": true
   },
   "outputs": [],
   "source": [
    "def cat2proba_dict(values, labels):\n",
    "    cat_dict = {}\n",
    "    probas = []\n",
    "    for aval in np.unique(values):\n",
    "        labels_for_val = labels[values == aval]\n",
    "        n = len(labels_for_val)\n",
    "        n_1 = len(labels_for_val[labels_for_val == 1])\n",
    "        p = 1.0 * n_1 / n\n",
    "        cat_dict[aval] = p\n",
    "    return cat_dict\n",
    "\n",
    "def cat2proba(cat_dict, values):\n",
    "    probas = []\n",
    "    for aval in values:\n",
    "        if aval in cat_dict:\n",
    "            probas.append(cat_dict[aval])\n",
    "        else:\n",
    "            probas.append(0)\n",
    "    return np.array(probas)\n",
    "def date2ymd(date):\n",
    "    date_plitted = date.split('-')\n",
    "    year = int(date_plitted[0])\n",
    "    month = int(date_plitted[1])\n",
    "    day = int(date_plitted[2])\n",
    "    return [year, month, day]"
   ]
  },
  {
   "cell_type": "code",
   "execution_count": 7,
   "metadata": {},
   "outputs": [],
   "source": [
    "category_id_dict = cat2proba_dict(df_train['category_id'].values, y)\n",
    "subcategory_id_dict = cat2proba_dict(df_train['subcategory_id'].values, y)\n",
    "\n",
    "city_dict = cat2proba_dict(df_train['city'].values, y)\n",
    "region_dict = cat2proba_dict(df_train['region'].values, y)"
   ]
  },
  {
   "cell_type": "code",
   "execution_count": 8,
   "metadata": {},
   "outputs": [
    {
     "data": {
      "text/plain": [
       "TfidfVectorizer(analyzer='word', binary=False, decode_error='ignore',\n",
       "        dtype=<class 'numpy.int64'>, encoding='utf-8', input='content',\n",
       "        lowercase=True, max_df=1.0, max_features=100, min_df=1,\n",
       "        ngram_range=(1, 1), norm='l2', preprocessor=None, smooth_idf=True,\n",
       "        stop_words=None, strip_accents=None, sublinear_tf=False,\n",
       "        token_pattern='(?u)\\\\b\\\\w\\\\w+\\\\b', tokenizer=None, use_idf=True,\n",
       "        vocabulary=None)"
      ]
     },
     "execution_count": 8,
     "metadata": {},
     "output_type": "execute_result"
    }
   ],
   "source": [
    "from sklearn.feature_extraction.text import TfidfVectorizer\n",
    "\n",
    "name_text = df_train['name_text'].values\n",
    "vectorizer_name_text = TfidfVectorizer(max_features=100, decode_error='ignore')\n",
    "vectorizer_name_text.fit(name_text)\n",
    "\n",
    "desc_text = df_train['desc_text'].values\n",
    "vectorizer_desc_text = TfidfVectorizer(max_features=100, decode_error='ignore')\n",
    "vectorizer_desc_text.fit(desc_text)"
   ]
  },
  {
   "cell_type": "code",
   "execution_count": 28,
   "metadata": {
    "collapsed": true
   },
   "outputs": [],
   "source": [
    "def preprocessing(data):\n",
    "    \n",
    "    x1 = data[['category_id', 'lat', 'long', 'price', 'product_type', 'sold_mode', 'subcategory_id', 'img_num']].values\n",
    "    feature_raw = data['date_created'].values\n",
    "    x2 = np.array([date2ymd(i) for i in feature_raw])\n",
    "    x3 = data[['payment_available', 'delivery_available']].values * 1.\n",
    "    \n",
    "    x10 = cat2proba(category_id_dict, data['category_id'].values).reshape(-1, 1)\n",
    "    x11 = cat2proba(subcategory_id_dict, data['subcategory_id'].values).reshape(-1, 1)\n",
    "    x12 = cat2proba(city_dict, data['city'].values).reshape(-1, 1)\n",
    "    x13 = cat2proba(region_dict, data['region'].values).reshape(-1, 1)\n",
    "    \n",
    "    name_text = data['name_text'].values\n",
    "    x1000 = vectorizer_name_text.transform(name_text).toarray()\n",
    "#     print(x1000.shape)\n",
    "    desc_text = data['desc_text'].values\n",
    "    x1001 = vectorizer_desc_text.transform(desc_text).toarray()\n",
    "    \n",
    "    X = np.concatenate(tuple([x1, x2, x3, x10, x11, x12, x13, x1000, x1001]), axis=1)\n",
    "    \n",
    "    return X"
   ]
  },
  {
   "cell_type": "code",
   "execution_count": 29,
   "metadata": {},
   "outputs": [
    {
     "name": "stdout",
     "output_type": "stream",
     "text": [
      "(351281, 100)\n"
     ]
    }
   ],
   "source": [
    "X_train = preprocessing(X)"
   ]
  },
  {
   "cell_type": "code",
   "execution_count": 15,
   "metadata": {},
   "outputs": [
    {
     "data": {
      "text/plain": [
       "(351281, 217)"
      ]
     },
     "execution_count": 15,
     "metadata": {},
     "output_type": "execute_result"
    }
   ],
   "source": [
    "X_train.shape"
   ]
  },
  {
   "cell_type": "code",
   "execution_count": 16,
   "metadata": {
    "collapsed": true
   },
   "outputs": [],
   "source": [
    "from sklearn.model_selection import train_test_split\n",
    "\n",
    "X_train, X_val, y_train, y_val = train_test_split(X_train, y, test_size=0.33, random_state=42)"
   ]
  },
  {
   "cell_type": "code",
   "execution_count": 20,
   "metadata": {},
   "outputs": [
    {
     "data": {
      "text/plain": [
       "XGBClassifier(base_score=0.5, booster='gbtree', colsample_bylevel=1,\n",
       "       colsample_bynode=1, colsample_bytree=0.7, gamma=0,\n",
       "       learning_rate=0.02, max_delta_step=0, max_depth=8,\n",
       "       min_child_weight=1, missing=None, n_estimators=200, n_jobs=3,\n",
       "       nthread=None, objective='binary:logistic', random_state=0,\n",
       "       reg_alpha=0, reg_lambda=1, scale_pos_weight=1.0, seed=None,\n",
       "       silent=None, subsample=1, verbosity=1)"
      ]
     },
     "execution_count": 20,
     "metadata": {},
     "output_type": "execute_result"
    }
   ],
   "source": [
    "from xgboost import XGBClassifier\n",
    "\n",
    "#clf = RandomForestClassifier(n_estimators=100, n_jobs=3, class_weight='balanced', min_samples_leaf=100)\n",
    "clf = XGBClassifier(n_estimators=200, learning_rate=0.02, max_depth=8, n_jobs=3, colsample_bytree=0.7, scale_pos_weight=1.)\n",
    "clf.fit(X_train, y_train)"
   ]
  },
  {
   "cell_type": "code",
   "execution_count": 21,
   "metadata": {
    "collapsed": true
   },
   "outputs": [],
   "source": [
    "y_val_pred = clf.predict_proba(X_val)[:, 1]"
   ]
  },
  {
   "cell_type": "code",
   "execution_count": 23,
   "metadata": {},
   "outputs": [
    {
     "name": "stdout",
     "output_type": "stream",
     "text": [
      "Test AUC:  0.6462071073189568\n"
     ]
    }
   ],
   "source": [
    "from sklearn.metrics import roc_auc_score\n",
    "\n",
    "auc_val = roc_auc_score(y_val, y_val_pred)\n",
    "\n",
    "print(\"Test AUC: \", auc_val)"
   ]
  },
  {
   "cell_type": "code",
   "execution_count": 24,
   "metadata": {
    "collapsed": true
   },
   "outputs": [],
   "source": [
    "data_submit = pd.read_csv('test_nolabel.tsv', sep = '\\t')"
   ]
  },
  {
   "cell_type": "code",
   "execution_count": 25,
   "metadata": {
    "collapsed": true
   },
   "outputs": [],
   "source": [
    "X_submit = preprocessing(data_submit)"
   ]
  },
  {
   "cell_type": "code",
   "execution_count": 26,
   "metadata": {
    "collapsed": true
   },
   "outputs": [],
   "source": [
    "y_submit_pred = clf.predict_proba(X_submit)[:, 1]"
   ]
  },
  {
   "cell_type": "code",
   "execution_count": 27,
   "metadata": {
    "collapsed": true
   },
   "outputs": [],
   "source": [
    "product_id = data_submit['product_id'].values\n",
    "data_submit = pd.DataFrame.from_dict({'product_id' : product_id, 'score' : y_submit_pred})\n",
    "data_submit.to_csv('./to_submit', sep = ',', index = False)"
   ]
  },
  {
   "cell_type": "code",
   "execution_count": null,
   "metadata": {
    "collapsed": true
   },
   "outputs": [],
   "source": []
  }
 ],
 "metadata": {
  "kernelspec": {
   "display_name": "Python 3",
   "language": "python",
   "name": "python3"
  },
  "language_info": {
   "codemirror_mode": {
    "name": "ipython",
    "version": 3
   },
   "file_extension": ".py",
   "mimetype": "text/x-python",
   "name": "python",
   "nbconvert_exporter": "python",
   "pygments_lexer": "ipython3",
   "version": "3.6.3"
  }
 },
 "nbformat": 4,
 "nbformat_minor": 2
}
