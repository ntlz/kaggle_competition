{
 "cells": [
  {
   "cell_type": "code",
   "execution_count": 15,
   "metadata": {
    "collapsed": true
   },
   "outputs": [],
   "source": [
    "import pandas as pd\n",
    "import numpy as np\n",
    "import matplotlib.pyplot as plt\n",
    "import scipy\n",
    "\n",
    "%matplotlib inline\n",
    "\n",
    "plt.style.use('seaborn-deep')\n",
    "plt.rcParams['figure.figsize'] = (12,8)"
   ]
  },
  {
   "cell_type": "code",
   "execution_count": 16,
   "metadata": {
    "collapsed": true
   },
   "outputs": [],
   "source": [
    "df_train = pd.read_csv('train.tsv', sep='\\t', index_col=0)\n",
    "df_test = pd.read_csv('test_nolabel.tsv', sep='\\t', index_col=0)"
   ]
  },
  {
   "cell_type": "code",
   "execution_count": 17,
   "metadata": {
    "collapsed": true
   },
   "outputs": [],
   "source": [
    "X = df_train.drop(['sold_fast', 'properties', 'product_id', 'owner_id', 'name_text', 'desc_text', 'date_created'], axis=1)\n",
    "y = df_train['sold_fast']"
   ]
  },
  {
   "cell_type": "code",
   "execution_count": 18,
   "metadata": {},
   "outputs": [
    {
     "data": {
      "text/html": [
       "<div>\n",
       "<style scoped>\n",
       "    .dataframe tbody tr th:only-of-type {\n",
       "        vertical-align: middle;\n",
       "    }\n",
       "\n",
       "    .dataframe tbody tr th {\n",
       "        vertical-align: top;\n",
       "    }\n",
       "\n",
       "    .dataframe thead th {\n",
       "        text-align: right;\n",
       "    }\n",
       "</style>\n",
       "<table border=\"1\" class=\"dataframe\">\n",
       "  <thead>\n",
       "    <tr style=\"text-align: right;\">\n",
       "      <th></th>\n",
       "      <th>category_id</th>\n",
       "      <th>city</th>\n",
       "      <th>delivery_available</th>\n",
       "      <th>img_num</th>\n",
       "      <th>lat</th>\n",
       "      <th>long</th>\n",
       "      <th>payment_available</th>\n",
       "      <th>price</th>\n",
       "      <th>product_type</th>\n",
       "      <th>region</th>\n",
       "      <th>sold_mode</th>\n",
       "      <th>subcategory_id</th>\n",
       "    </tr>\n",
       "  </thead>\n",
       "  <tbody>\n",
       "    <tr>\n",
       "      <th>1</th>\n",
       "      <td>4</td>\n",
       "      <td>Краснодар</td>\n",
       "      <td>False</td>\n",
       "      <td>3</td>\n",
       "      <td>45.0686</td>\n",
       "      <td>38.9518</td>\n",
       "      <td>True</td>\n",
       "      <td>500.0</td>\n",
       "      <td>1</td>\n",
       "      <td>Краснодарский край</td>\n",
       "      <td>1</td>\n",
       "      <td>410</td>\n",
       "    </tr>\n",
       "    <tr>\n",
       "      <th>2</th>\n",
       "      <td>4</td>\n",
       "      <td>Тюмень</td>\n",
       "      <td>False</td>\n",
       "      <td>2</td>\n",
       "      <td>57.1840</td>\n",
       "      <td>65.5674</td>\n",
       "      <td>False</td>\n",
       "      <td>300.0</td>\n",
       "      <td>1</td>\n",
       "      <td>Тюменская область</td>\n",
       "      <td>1</td>\n",
       "      <td>405</td>\n",
       "    </tr>\n",
       "    <tr>\n",
       "      <th>4</th>\n",
       "      <td>9</td>\n",
       "      <td>Омск</td>\n",
       "      <td>True</td>\n",
       "      <td>1</td>\n",
       "      <td>54.9889</td>\n",
       "      <td>73.4312</td>\n",
       "      <td>True</td>\n",
       "      <td>1100.0</td>\n",
       "      <td>1</td>\n",
       "      <td>Омская область</td>\n",
       "      <td>1</td>\n",
       "      <td>908</td>\n",
       "    </tr>\n",
       "    <tr>\n",
       "      <th>6</th>\n",
       "      <td>3</td>\n",
       "      <td>Санкт-Петербург</td>\n",
       "      <td>False</td>\n",
       "      <td>4</td>\n",
       "      <td>59.9590</td>\n",
       "      <td>30.4877</td>\n",
       "      <td>True</td>\n",
       "      <td>5000.0</td>\n",
       "      <td>1</td>\n",
       "      <td>Ленинградская область</td>\n",
       "      <td>1</td>\n",
       "      <td>312</td>\n",
       "    </tr>\n",
       "    <tr>\n",
       "      <th>10</th>\n",
       "      <td>5</td>\n",
       "      <td>Москва</td>\n",
       "      <td>False</td>\n",
       "      <td>2</td>\n",
       "      <td>55.6473</td>\n",
       "      <td>37.4118</td>\n",
       "      <td>True</td>\n",
       "      <td>2000.0</td>\n",
       "      <td>1</td>\n",
       "      <td>Московская область</td>\n",
       "      <td>1</td>\n",
       "      <td>504</td>\n",
       "    </tr>\n",
       "  </tbody>\n",
       "</table>\n",
       "</div>"
      ],
      "text/plain": [
       "    category_id             city  delivery_available  img_num      lat  \\\n",
       "1             4        Краснодар               False        3  45.0686   \n",
       "2             4           Тюмень               False        2  57.1840   \n",
       "4             9             Омск                True        1  54.9889   \n",
       "6             3  Санкт-Петербург               False        4  59.9590   \n",
       "10            5           Москва               False        2  55.6473   \n",
       "\n",
       "       long  payment_available   price  product_type                 region  \\\n",
       "1   38.9518               True   500.0             1     Краснодарский край   \n",
       "2   65.5674              False   300.0             1      Тюменская область   \n",
       "4   73.4312               True  1100.0             1         Омская область   \n",
       "6   30.4877               True  5000.0             1  Ленинградская область   \n",
       "10  37.4118               True  2000.0             1     Московская область   \n",
       "\n",
       "    sold_mode  subcategory_id  \n",
       "1           1             410  \n",
       "2           1             405  \n",
       "4           1             908  \n",
       "6           1             312  \n",
       "10          1             504  "
      ]
     },
     "execution_count": 18,
     "metadata": {},
     "output_type": "execute_result"
    }
   ],
   "source": [
    "X.head()"
   ]
  },
  {
   "cell_type": "code",
   "execution_count": 19,
   "metadata": {
    "collapsed": true
   },
   "outputs": [],
   "source": [
    "def get_dict(df_column):\n",
    "    cities = np.unique(df_column)\n",
    "    city_dict = {}\n",
    "    for i, city in enumerate(cities):\n",
    "        city_dict[city] = i\n",
    "    return city_dict"
   ]
  },
  {
   "cell_type": "code",
   "execution_count": 20,
   "metadata": {
    "collapsed": true
   },
   "outputs": [],
   "source": [
    "city_dict = get_dict(X.city.values)\n",
    "X.loc[:, 'city'] = X.loc[:, 'city'].apply(lambda x: city_dict[x] if x in city_dict else len(city_dict) + 1)\n",
    "\n",
    "region_dict = get_dict(X.region.values)\n",
    "X.loc[:, 'region'] = X.loc[:, 'region'].apply(lambda x: region_dict[x] if x in region_dict else len(region_dict) + 1)\n",
    "\n",
    "X.loc[:, 'delivery_available'] = X.loc[:, 'delivery_available'].apply(lambda x: 1 if x else 0)\n",
    "X.loc[:, 'payment_available'] = X.loc[:, 'payment_available'].apply(lambda x: 1 if x else 0)"
   ]
  },
  {
   "cell_type": "code",
   "execution_count": 27,
   "metadata": {},
   "outputs": [],
   "source": [
    "from sklearn.ensemble import RandomForestClassifier\n",
    "from sklearn.model_selection import train_test_split"
   ]
  },
  {
   "cell_type": "code",
   "execution_count": 22,
   "metadata": {
    "collapsed": true
   },
   "outputs": [],
   "source": [
    "X_pt_1 = X[X.product_type == 1]\n",
    "y_pt_1 = y[X.product_type == 1]"
   ]
  },
  {
   "cell_type": "code",
   "execution_count": 23,
   "metadata": {},
   "outputs": [
    {
     "data": {
      "text/plain": [
       "((344224, 12), (344224,))"
      ]
     },
     "execution_count": 23,
     "metadata": {},
     "output_type": "execute_result"
    }
   ],
   "source": [
    "X_pt_1.shape, y_pt_1.shape"
   ]
  },
  {
   "cell_type": "code",
   "execution_count": 24,
   "metadata": {},
   "outputs": [
    {
     "data": {
      "text/plain": [
       "((7056, 12), (7056,))"
      ]
     },
     "execution_count": 24,
     "metadata": {},
     "output_type": "execute_result"
    }
   ],
   "source": [
    "X_pt_5 = X[X.product_type == 5]\n",
    "y_pt_5 = y[X.product_type == 5]\n",
    "X_pt_5.shape, y_pt_5.shape"
   ]
  },
  {
   "cell_type": "code",
   "execution_count": 25,
   "metadata": {},
   "outputs": [
    {
     "data": {
      "text/html": [
       "<div>\n",
       "<style scoped>\n",
       "    .dataframe tbody tr th:only-of-type {\n",
       "        vertical-align: middle;\n",
       "    }\n",
       "\n",
       "    .dataframe tbody tr th {\n",
       "        vertical-align: top;\n",
       "    }\n",
       "\n",
       "    .dataframe thead th {\n",
       "        text-align: right;\n",
       "    }\n",
       "</style>\n",
       "<table border=\"1\" class=\"dataframe\">\n",
       "  <thead>\n",
       "    <tr style=\"text-align: right;\">\n",
       "      <th></th>\n",
       "      <th>category_id</th>\n",
       "      <th>city</th>\n",
       "      <th>delivery_available</th>\n",
       "      <th>img_num</th>\n",
       "      <th>lat</th>\n",
       "      <th>long</th>\n",
       "      <th>payment_available</th>\n",
       "      <th>price</th>\n",
       "      <th>product_type</th>\n",
       "      <th>region</th>\n",
       "      <th>sold_mode</th>\n",
       "      <th>subcategory_id</th>\n",
       "    </tr>\n",
       "  </thead>\n",
       "  <tbody>\n",
       "    <tr>\n",
       "      <th>1</th>\n",
       "      <td>4</td>\n",
       "      <td>941</td>\n",
       "      <td>0</td>\n",
       "      <td>3</td>\n",
       "      <td>45.0686</td>\n",
       "      <td>38.9518</td>\n",
       "      <td>1</td>\n",
       "      <td>500.0</td>\n",
       "      <td>1</td>\n",
       "      <td>38</td>\n",
       "      <td>1</td>\n",
       "      <td>410</td>\n",
       "    </tr>\n",
       "    <tr>\n",
       "      <th>2</th>\n",
       "      <td>4</td>\n",
       "      <td>2025</td>\n",
       "      <td>0</td>\n",
       "      <td>2</td>\n",
       "      <td>57.1840</td>\n",
       "      <td>65.5674</td>\n",
       "      <td>0</td>\n",
       "      <td>300.0</td>\n",
       "      <td>1</td>\n",
       "      <td>93</td>\n",
       "      <td>1</td>\n",
       "      <td>405</td>\n",
       "    </tr>\n",
       "    <tr>\n",
       "      <th>4</th>\n",
       "      <td>9</td>\n",
       "      <td>1444</td>\n",
       "      <td>1</td>\n",
       "      <td>1</td>\n",
       "      <td>54.9889</td>\n",
       "      <td>73.4312</td>\n",
       "      <td>1</td>\n",
       "      <td>1100.0</td>\n",
       "      <td>1</td>\n",
       "      <td>56</td>\n",
       "      <td>1</td>\n",
       "      <td>908</td>\n",
       "    </tr>\n",
       "    <tr>\n",
       "      <th>6</th>\n",
       "      <td>3</td>\n",
       "      <td>1703</td>\n",
       "      <td>0</td>\n",
       "      <td>4</td>\n",
       "      <td>59.9590</td>\n",
       "      <td>30.4877</td>\n",
       "      <td>1</td>\n",
       "      <td>5000.0</td>\n",
       "      <td>1</td>\n",
       "      <td>45</td>\n",
       "      <td>1</td>\n",
       "      <td>312</td>\n",
       "    </tr>\n",
       "    <tr>\n",
       "      <th>10</th>\n",
       "      <td>5</td>\n",
       "      <td>1222</td>\n",
       "      <td>0</td>\n",
       "      <td>2</td>\n",
       "      <td>55.6473</td>\n",
       "      <td>37.4118</td>\n",
       "      <td>1</td>\n",
       "      <td>2000.0</td>\n",
       "      <td>1</td>\n",
       "      <td>50</td>\n",
       "      <td>1</td>\n",
       "      <td>504</td>\n",
       "    </tr>\n",
       "  </tbody>\n",
       "</table>\n",
       "</div>"
      ],
      "text/plain": [
       "    category_id  city  delivery_available  img_num      lat     long  \\\n",
       "1             4   941                   0        3  45.0686  38.9518   \n",
       "2             4  2025                   0        2  57.1840  65.5674   \n",
       "4             9  1444                   1        1  54.9889  73.4312   \n",
       "6             3  1703                   0        4  59.9590  30.4877   \n",
       "10            5  1222                   0        2  55.6473  37.4118   \n",
       "\n",
       "    payment_available   price  product_type  region  sold_mode  subcategory_id  \n",
       "1                   1   500.0             1      38          1             410  \n",
       "2                   0   300.0             1      93          1             405  \n",
       "4                   1  1100.0             1      56          1             908  \n",
       "6                   1  5000.0             1      45          1             312  \n",
       "10                  1  2000.0             1      50          1             504  "
      ]
     },
     "execution_count": 25,
     "metadata": {},
     "output_type": "execute_result"
    }
   ],
   "source": [
    "X_pt_1.head()"
   ]
  },
  {
   "cell_type": "code",
   "execution_count": 28,
   "metadata": {},
   "outputs": [],
   "source": [
    "X_train1, X_val1, y_train1, y_val1 = train_test_split(X_pt_1, y_pt_1, test_size=0.3, random_state=42)\n",
    "X_train5, X_val5, y_train5, y_val5 = train_test_split(X_pt_5, y_pt_5, test_size=0.3, random_state=42)"
   ]
  },
  {
   "cell_type": "code",
   "execution_count": 29,
   "metadata": {
    "collapsed": true
   },
   "outputs": [],
   "source": [
    "clf1 = RandomForestClassifier(max_depth=5, n_estimators=100).fit(X_train1, y_train1)\n",
    "clf5 = RandomForestClassifier(max_depth=5, n_estimators=100).fit(X_train5, y_train5)"
   ]
  },
  {
   "cell_type": "code",
   "execution_count": 34,
   "metadata": {},
   "outputs": [],
   "source": [
    "y_pred1 = clf1.predict(X_val1)\n",
    "y_pred5 = clf5.predict(X_val5)"
   ]
  },
  {
   "cell_type": "code",
   "execution_count": 35,
   "metadata": {
    "collapsed": true
   },
   "outputs": [],
   "source": [
    "from sklearn.metrics import roc_auc_score"
   ]
  },
  {
   "cell_type": "code",
   "execution_count": 37,
   "metadata": {},
   "outputs": [
    {
     "data": {
      "text/plain": [
       "(0.5, 0.5)"
      ]
     },
     "execution_count": 37,
     "metadata": {},
     "output_type": "execute_result"
    }
   ],
   "source": [
    "roc_auc_score(y_val1, y_pred1), roc_auc_score(y_val5, y_pred5)"
   ]
  },
  {
   "cell_type": "code",
   "execution_count": 38,
   "metadata": {
    "collapsed": true
   },
   "outputs": [],
   "source": [
    "from sklearn.model_selection import cross_validate"
   ]
  },
  {
   "cell_type": "code",
   "execution_count": 40,
   "metadata": {},
   "outputs": [],
   "source": [
    "cv_results = cross_validate(RandomForestClassifier(), X_pt_1, y_pt_1, cv=5000)"
   ]
  },
  {
   "cell_type": "code",
   "execution_count": null,
   "metadata": {
    "collapsed": true
   },
   "outputs": [],
   "source": [
    "cv_results5 = cross_validate(RandomForestClassifier(), X_pt_5, y_pt_5, cv=5000)"
   ]
  },
  {
   "cell_type": "code",
   "execution_count": null,
   "metadata": {
    "collapsed": true
   },
   "outputs": [],
   "source": []
  }
 ],
 "metadata": {
  "kernelspec": {
   "display_name": "Python 3",
   "language": "python",
   "name": "python3"
  },
  "language_info": {
   "codemirror_mode": {
    "name": "ipython",
    "version": 3
   },
   "file_extension": ".py",
   "mimetype": "text/x-python",
   "name": "python",
   "nbconvert_exporter": "python",
   "pygments_lexer": "ipython3",
   "version": "3.6.3"
  }
 },
 "nbformat": 4,
 "nbformat_minor": 2
}
