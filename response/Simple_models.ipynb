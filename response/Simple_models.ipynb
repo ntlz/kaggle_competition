{
 "cells": [
  {
   "cell_type": "code",
   "execution_count": 54,
   "metadata": {},
   "outputs": [],
   "source": [
    "import pandas as pd\n",
    "import numpy as np\n",
    "import matplotlib.pyplot as plt\n",
    "import scipy\n",
    "\n",
    "%matplotlib inline\n",
    "\n",
    "plt.style.use('seaborn-deep')\n",
    "plt.rcParams['figure.figsize'] = (12,8)"
   ]
  },
  {
   "cell_type": "code",
   "execution_count": 55,
   "metadata": {},
   "outputs": [],
   "source": [
    "df_train = pd.read_csv('train.tsv', sep='\\t', index_col=0)\n",
    "df_test = pd.read_csv('test_nolabel.tsv', sep='\\t', index_col=0)"
   ]
  },
  {
   "cell_type": "code",
   "execution_count": 56,
   "metadata": {},
   "outputs": [],
   "source": [
    "X = df_train.drop(['sold_fast', 'properties', 'product_id', 'owner_id', 'name_text', 'desc_text', 'date_created'], axis=1)\n",
    "y = df_train['sold_fast']"
   ]
  },
  {
   "cell_type": "code",
   "execution_count": 61,
   "metadata": {},
   "outputs": [],
   "source": [
    "def get_dict(df_column):\n",
    "    cities = np.unique(df_column)\n",
    "    city_dict = {}\n",
    "    for i, city in enumerate(cities):\n",
    "        city_dict[city] = i\n",
    "    return city_dict"
   ]
  },
  {
   "cell_type": "code",
   "execution_count": 62,
   "metadata": {},
   "outputs": [],
   "source": [
    "city_dict = get_dict(X.city.values)\n",
    "X.loc[:, 'city'] = X.loc[:, 'city'].apply(lambda x: city_dict[x] if x in city_dict else len(city_dict) + 1)\n",
    "\n",
    "region_dict = get_dict(X.region.values)\n",
    "X.loc[:, 'region'] = X.loc[:, 'region'].apply(lambda x: region_dict[x] if x in region_dict else len(region_dict) + 1)\n",
    "\n",
    "X.loc[:, 'delivery_available'] = X.loc[:, 'delivery_available'].apply(lambda x: 1 if x else 0)\n",
    "X.loc[:, 'payment_available'] = X.loc[:, 'payment_available'].apply(lambda x: 1 if x else 0)"
   ]
  },
  {
   "cell_type": "code",
   "execution_count": 64,
   "metadata": {},
   "outputs": [],
   "source": [
    "from sklearn.ensemble import RandomForestClassifier\n",
    "from sklearn.model_selection import train_test_split"
   ]
  },
  {
   "cell_type": "code",
   "execution_count": 65,
   "metadata": {},
   "outputs": [],
   "source": [
    "X_pt_1 = X[X.product_type == 1]\n",
    "y_pt_1 = y[X.product_type == 1]"
   ]
  },
  {
   "cell_type": "code",
   "execution_count": 66,
   "metadata": {},
   "outputs": [],
   "source": [
    "X_pt_1 = X_pt_1.drop(['product_type'], axis=1)"
   ]
  },
  {
   "cell_type": "code",
   "execution_count": 68,
   "metadata": {},
   "outputs": [
    {
     "data": {
      "text/plain": [
       "((7056, 118), (7056,))"
      ]
     },
     "execution_count": 68,
     "metadata": {},
     "output_type": "execute_result"
    }
   ],
   "source": [
    "X_pt_5 = X[X.product_type == 5]\n",
    "y_pt_5 = y[X.product_type == 5]\n",
    "X_pt_5 = X_pt_5.drop(['product_type'], axis=1)\n",
    "X_pt_5.shape, y_pt_5.shape"
   ]
  },
  {
   "cell_type": "code",
   "execution_count": 70,
   "metadata": {},
   "outputs": [],
   "source": [
    "X_train1, X_val1, y_train1, y_val1 = train_test_split(X_pt_1, y_pt_1, test_size=0.3, random_state=42)\n",
    "X_train5, X_val5, y_train5, y_val5 = train_test_split(X_pt_5, y_pt_5, test_size=0.3, random_state=42)"
   ]
  },
  {
   "cell_type": "code",
   "execution_count": 71,
   "metadata": {},
   "outputs": [],
   "source": [
    "clf1 = RandomForestClassifier(max_depth=5, n_estimators=100).fit(X_train1, y_train1)\n",
    "clf5 = RandomForestClassifier(max_depth=5, n_estimators=100).fit(X_train5, y_train5)"
   ]
  },
  {
   "cell_type": "code",
   "execution_count": 72,
   "metadata": {},
   "outputs": [],
   "source": [
    "y_pred1 = clf1.predict_proba(X_val1)[:, 1]\n",
    "y_pred5 = clf5.predict_proba(X_val5)[:, 1]"
   ]
  },
  {
   "cell_type": "code",
   "execution_count": 73,
   "metadata": {},
   "outputs": [],
   "source": [
    "from sklearn.metrics import roc_auc_score"
   ]
  },
  {
   "cell_type": "code",
   "execution_count": 74,
   "metadata": {},
   "outputs": [
    {
     "data": {
      "text/plain": [
       "(0.5770304242679087, 0.563488851631304)"
      ]
     },
     "execution_count": 74,
     "metadata": {},
     "output_type": "execute_result"
    }
   ],
   "source": [
    "roc_auc_score(y_val1, y_pred1), roc_auc_score(y_val5, y_pred5)"
   ]
  }
 ],
 "metadata": {
  "kernelspec": {
   "display_name": "Python 3",
   "language": "python",
   "name": "python3"
  },
  "language_info": {
   "codemirror_mode": {
    "name": "ipython",
    "version": 3
   },
   "file_extension": ".py",
   "mimetype": "text/x-python",
   "name": "python",
   "nbconvert_exporter": "python",
   "pygments_lexer": "ipython3",
   "version": "3.6.4"
  }
 },
 "nbformat": 4,
 "nbformat_minor": 2
}
