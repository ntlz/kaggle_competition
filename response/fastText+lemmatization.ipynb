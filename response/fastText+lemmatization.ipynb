{
 "cells": [
  {
   "cell_type": "code",
   "execution_count": 2,
   "metadata": {
    "collapsed": true
   },
   "outputs": [],
   "source": [
    "import pandas as pd\n",
    "import numpy as np\n",
    "import matplotlib.pyplot as plt\n",
    "import scipy\n",
    "\n",
    "%matplotlib inline\n",
    "\n",
    "plt.style.use('seaborn-deep')\n",
    "plt.rcParams['figure.figsize'] = (12,8)"
   ]
  },
  {
   "cell_type": "code",
   "execution_count": 130,
   "metadata": {
    "collapsed": true
   },
   "outputs": [],
   "source": [
    "from sklearn.model_selection import train_test_split\n",
    "from sklearn.metrics import accuracy_score\n",
    "from sklearn.metrics import precision_recall_fscore_support\n",
    "from sklearn.metrics import f1_score\n",
    "\n",
    "from sklearn.decomposition import TruncatedSVD\n",
    "from sklearn.ensemble import GradientBoostingClassifier, RandomForestClassifier\n",
    "from sklearn.linear_model import LogisticRegression\n",
    "\n",
    "from sklearn.feature_extraction.text import CountVectorizer, TfidfTransformer \n",
    "from sklearn.pipeline import Pipeline\n",
    "\n",
    "from itertools import chain"
   ]
  },
  {
   "cell_type": "code",
   "execution_count": 1,
   "metadata": {
    "collapsed": true
   },
   "outputs": [],
   "source": [
    "# ! git clone https://github.com/facebookresearch/fastText.git\n",
    "# % cd fastText\n",
    "# ! pip install ."
   ]
  },
  {
   "cell_type": "code",
   "execution_count": 3,
   "metadata": {
    "collapsed": true
   },
   "outputs": [],
   "source": [
    "import fastText"
   ]
  },
  {
   "cell_type": "code",
   "execution_count": 5,
   "metadata": {},
   "outputs": [
    {
     "name": "stdout",
     "output_type": "stream",
     "text": [
      "C:\\Users\\Natalia\\Documents\\kaggle_competition\n"
     ]
    }
   ],
   "source": [
    "% cd .."
   ]
  },
  {
   "cell_type": "code",
   "execution_count": 6,
   "metadata": {
    "collapsed": true
   },
   "outputs": [],
   "source": [
    "df_train = pd.read_csv('train.tsv', sep='\\t', index_col=0)\n",
    "df_test = pd.read_csv('test_nolabel.tsv', sep='\\t', index_col=0)"
   ]
  },
  {
   "cell_type": "markdown",
   "metadata": {},
   "source": [
    "# Lemmatize descriptions"
   ]
  },
  {
   "cell_type": "code",
   "execution_count": 23,
   "metadata": {
    "collapsed": true
   },
   "outputs": [],
   "source": [
    "from string import punctuation\n",
    "from tqdm import tqdm\n",
    "import re"
   ]
  },
  {
   "cell_type": "code",
   "execution_count": 2,
   "metadata": {
    "collapsed": true
   },
   "outputs": [],
   "source": [
    "# !pip3 install pymorphy2\n",
    "import pymorphy2"
   ]
  },
  {
   "cell_type": "code",
   "execution_count": 67,
   "metadata": {},
   "outputs": [
    {
     "name": "stdout",
     "output_type": "stream",
     "text": [
      "[nltk_data] Downloading package stopwords to\n",
      "[nltk_data]     C:\\Users\\Natalia\\AppData\\Roaming\\nltk_data...\n",
      "[nltk_data]   Unzipping corpora\\stopwords.zip.\n"
     ]
    }
   ],
   "source": [
    "import nltk\n",
    "# nltk.download('wordnet')\n",
    "from nltk.corpus import stopwords\n",
    "nltk.download('stopwords')\n",
    "stopwords = stopwords.words('russian')"
   ]
  },
  {
   "cell_type": "code",
   "execution_count": 85,
   "metadata": {
    "collapsed": true
   },
   "outputs": [],
   "source": [
    "def lemmatize(texts):\n",
    "    stemmer = pymorphy2.MorphAnalyzer()\n",
    "    lemmatized = []\n",
    "    for text in tqdm(texts):\n",
    "        text = [word for word in re.split('\\W+', text)]\n",
    "        tokens = [stemmer.parse(word.strip())[0].normal_form for word in text]\n",
    "        tokens = list(filter(lambda x: x.strip() not in ['', ' ', '> <', '»', '«', '–'] and x not in punctuation \\\n",
    "                             and x not in stopwords, tokens))\n",
    "        lemmatized.append(' '.join(tokens))\n",
    "    return np.array(lemmatized, dtype='object')"
   ]
  },
  {
   "cell_type": "code",
   "execution_count": 86,
   "metadata": {},
   "outputs": [
    {
     "data": {
      "text/plain": [
       "array(['Продаю стол раскладной, деревянный, советский на века. Состояние осень хорошее. Торг уместен. Самовывоз ФМР',\n",
       "       'Тарелки глубокие 6 шт. Блюдца, чашки по 6 шт. Все ранешний фарфор. В другом пакете современные блюдца, чашки и чайник с мишкой Тедди. Ничем практически не пользовались'],\n",
       "      dtype=object)"
      ]
     },
     "execution_count": 86,
     "metadata": {},
     "output_type": "execute_result"
    }
   ],
   "source": [
    "#descriptions = np.concatenate((df_train.desc_text.values, df_test.desc_text.values), axis=None)\n",
    "descriptions = df_train.desc_text.values\n",
    "descriptions[:2]"
   ]
  },
  {
   "cell_type": "code",
   "execution_count": 3,
   "metadata": {
    "collapsed": true
   },
   "outputs": [],
   "source": [
    "lemmatized = lemmatize(descriptions)\n",
    "# lemmatized[:5]"
   ]
  },
  {
   "cell_type": "code",
   "execution_count": 96,
   "metadata": {
    "collapsed": true
   },
   "outputs": [],
   "source": [
    "np.savetxt('lemmatized_train_description.csv', lemmatized, delimiter=',', encoding='utf-8', fmt=\"%s\")"
   ]
  },
  {
   "cell_type": "code",
   "execution_count": 4,
   "metadata": {
    "collapsed": true
   },
   "outputs": [],
   "source": [
    "descriptions_test = df_test.desc_text.values\n",
    "\n",
    "lemmatized_desc_test = lemmatize(descriptions_test)\n",
    "# lemmatized_desc_test[:5]"
   ]
  },
  {
   "cell_type": "code",
   "execution_count": 326,
   "metadata": {},
   "outputs": [
    {
     "data": {
      "text/plain": [
       "(89251,)"
      ]
     },
     "execution_count": 326,
     "metadata": {},
     "output_type": "execute_result"
    }
   ],
   "source": [
    "lemmatized_desc_test.shape"
   ]
  },
  {
   "cell_type": "code",
   "execution_count": 97,
   "metadata": {
    "collapsed": true
   },
   "outputs": [],
   "source": [
    "np.savetxt('lemmatized_test_description.csv', descriptions_test, delimiter=',', encoding='utf-8', fmt=\"%s\")"
   ]
  },
  {
   "cell_type": "code",
   "execution_count": 119,
   "metadata": {
    "collapsed": true
   },
   "outputs": [],
   "source": [
    "# df_train.loc[:, 'desc_text'] = lemmatized"
   ]
  },
  {
   "cell_type": "markdown",
   "metadata": {},
   "source": [
    "# Apply fastText"
   ]
  },
  {
   "cell_type": "code",
   "execution_count": 292,
   "metadata": {
    "collapsed": true
   },
   "outputs": [],
   "source": [
    "def applyFastText(texts, target):\n",
    "    y = target.apply(lambda x: '__label__' + str(x))\n",
    "\n",
    "    fastText_df = pd.DataFrame(columns=['text', 'label'], index=np.arange(y.shape[0]), \\\n",
    "                           data=np.vstack([texts, y.values]).T)\n",
    "    fastText_df.to_csv('to_train_ft.txt', index=False, sep=' ', encoding='utf-8')\n",
    "    \n",
    "    fastText_model = fastText.train_supervised('to_train_ft.txt', wordNgrams=2)\n",
    "    \n",
    "    return fastText_model    \n",
    "    \n",
    "def get_fastText_proba(model, X_train):\n",
    "    y_proba = model.predict(list(X_train), k=2)\n",
    "    probas_pos = []\n",
    "    for i in np.arange(len(y_proba[0])):\n",
    "        label = y_proba[0][i][0]\n",
    "        if label == '__label__0':\n",
    "            probas_pos.append(y_proba[1][i][1])\n",
    "        else:\n",
    "            probas_pos.append(y_proba[1][i][0])   \n",
    "    return np.array(probas_pos)"
   ]
  },
  {
   "cell_type": "code",
   "execution_count": 293,
   "metadata": {
    "collapsed": true
   },
   "outputs": [],
   "source": [
    "fastText_model = applyFastText(lemmatized, df_train.sold_fast)"
   ]
  },
  {
   "cell_type": "code",
   "execution_count": 294,
   "metadata": {
    "collapsed": true
   },
   "outputs": [],
   "source": [
    "ft_probas_pos = get_fastText_proba(fastText_model, lemmatized)"
   ]
  },
  {
   "cell_type": "code",
   "execution_count": 296,
   "metadata": {},
   "outputs": [
    {
     "data": {
      "text/plain": [
       "array([0.27031934, 0.51763797, 0.10651568, 0.17362656, 0.08377719])"
      ]
     },
     "execution_count": 296,
     "metadata": {},
     "output_type": "execute_result"
    }
   ],
   "source": [
    "np.array(ft_probas_pos)[:5]"
   ]
  },
  {
   "cell_type": "code",
   "execution_count": 297,
   "metadata": {
    "collapsed": true
   },
   "outputs": [],
   "source": [
    "np.savetxt('TRAIN_fastText_desc_posproba.csv', np.array(ft_probas_pos), delimiter=',', encoding='utf-8')"
   ]
  },
  {
   "cell_type": "code",
   "execution_count": 186,
   "metadata": {
    "collapsed": true
   },
   "outputs": [],
   "source": [
    "# y_pred_ft = fastText_model.predict(list(fastText_df.text.values))[0]\n",
    "# y_pred_ft = list(chain(*y_pred_ft))"
   ]
  },
  {
   "cell_type": "code",
   "execution_count": 187,
   "metadata": {
    "collapsed": true
   },
   "outputs": [],
   "source": [
    "# y_pred_ft = list(map(lambda x: x.replace('__label__', ''), y_pred_ft))\n",
    "# true_labels = list(map(lambda x: x.replace('__label__', ''), fastText_df.label.values))"
   ]
  },
  {
   "cell_type": "code",
   "execution_count": 188,
   "metadata": {},
   "outputs": [
    {
     "name": "stdout",
     "output_type": "stream",
     "text": [
      "Accuracy: 0.7889666677104654\n",
      "Fscore: 0.7458280584999859\n"
     ]
    }
   ],
   "source": [
    "# print('Accuracy:', accuracy_score(true_labels, np.array(y_pred_ft)))\n",
    "# print('Fscore:', f1_score(true_labels, np.array(y_pred_ft), average='weighted'))"
   ]
  },
  {
   "cell_type": "code",
   "execution_count": 298,
   "metadata": {},
   "outputs": [
    {
     "data": {
      "text/plain": [
       "0.7669134248324669"
      ]
     },
     "execution_count": 298,
     "metadata": {},
     "output_type": "execute_result"
    }
   ],
   "source": [
    "from sklearn.metrics import roc_auc_score\n",
    "\n",
    "auc_val = roc_auc_score(df_train.sold_fast.values, ft_probas_pos)\n",
    "auc_val"
   ]
  },
  {
   "cell_type": "markdown",
   "metadata": {},
   "source": [
    "#### Test values"
   ]
  },
  {
   "cell_type": "code",
   "execution_count": 299,
   "metadata": {
    "collapsed": true
   },
   "outputs": [],
   "source": [
    "test_ft_probas_pos = get_fastText_proba(fastText_model, lemmatized_desc_test)"
   ]
  },
  {
   "cell_type": "code",
   "execution_count": 300,
   "metadata": {
    "collapsed": true
   },
   "outputs": [],
   "source": [
    "np.savetxt('TEST_fastText_desc_posproba.csv', test_ft_probas_pos, delimiter=',', encoding='utf-8')"
   ]
  },
  {
   "cell_type": "markdown",
   "metadata": {},
   "source": [
    "## Same deal, but for name"
   ]
  },
  {
   "cell_type": "code",
   "execution_count": 5,
   "metadata": {
    "collapsed": true
   },
   "outputs": [],
   "source": [
    "names = df_train.name_text.values\n",
    "lemmatized_names = lemmatize(names)\n",
    "np.savetxt('lemmatized_train_name.csv', lemmatized_names, delimiter=',', encoding='utf-8', fmt=\"%s\")"
   ]
  },
  {
   "cell_type": "code",
   "execution_count": 6,
   "metadata": {
    "collapsed": true
   },
   "outputs": [],
   "source": [
    "test_names = df_test.name_text.values\n",
    "test_lemmatized_names = lemmatize(test_names)\n",
    "np.savetxt('lemmatized_test_name.csv', test_lemmatized_names, delimiter=',', encoding='utf-8', fmt=\"%s\")"
   ]
  },
  {
   "cell_type": "code",
   "execution_count": 301,
   "metadata": {
    "collapsed": true
   },
   "outputs": [],
   "source": [
    "fastText_model_name = applyFastText(lemmatized_names, df_train.sold_fast)"
   ]
  },
  {
   "cell_type": "code",
   "execution_count": 304,
   "metadata": {
    "collapsed": true
   },
   "outputs": [],
   "source": [
    "train_ft_probas_pos_name = get_fastText_proba(fastText_model_name, lemmatized_names) "
   ]
  },
  {
   "cell_type": "code",
   "execution_count": 305,
   "metadata": {
    "collapsed": true
   },
   "outputs": [],
   "source": [
    "np.savetxt('TRAIN_fastText_name_posproba.csv', train_ft_probas_pos_name, delimiter=',', encoding='utf-8')"
   ]
  },
  {
   "cell_type": "markdown",
   "metadata": {},
   "source": [
    "#### Test values"
   ]
  },
  {
   "cell_type": "code",
   "execution_count": 306,
   "metadata": {
    "collapsed": true
   },
   "outputs": [],
   "source": [
    "test_ft_probas_pos_name = get_fastText_proba(fastText_model_name, test_lemmatized_names)"
   ]
  },
  {
   "cell_type": "code",
   "execution_count": 307,
   "metadata": {
    "collapsed": true
   },
   "outputs": [],
   "source": [
    "np.savetxt('TEST_fastText_name_posproba.csv', test_ft_probas_pos_name, delimiter=',', encoding='utf-8')"
   ]
  },
  {
   "cell_type": "markdown",
   "metadata": {},
   "source": [
    "## Now replacing `desc_text` and `name_text` with probas"
   ]
  },
  {
   "cell_type": "code",
   "execution_count": 274,
   "metadata": {
    "collapsed": true
   },
   "outputs": [],
   "source": [
    "X = df_train.drop(['sold_fast', 'properties', 'product_id', 'owner_id', 'desc_text', 'name_text'], axis=1)\n",
    "y = df_train['sold_fast']"
   ]
  },
  {
   "cell_type": "code",
   "execution_count": 310,
   "metadata": {},
   "outputs": [
    {
     "data": {
      "text/html": [
       "<div>\n",
       "<style scoped>\n",
       "    .dataframe tbody tr th:only-of-type {\n",
       "        vertical-align: middle;\n",
       "    }\n",
       "\n",
       "    .dataframe tbody tr th {\n",
       "        vertical-align: top;\n",
       "    }\n",
       "\n",
       "    .dataframe thead th {\n",
       "        text-align: right;\n",
       "    }\n",
       "</style>\n",
       "<table border=\"1\" class=\"dataframe\">\n",
       "  <thead>\n",
       "    <tr style=\"text-align: right;\">\n",
       "      <th></th>\n",
       "      <th>category_id</th>\n",
       "      <th>city</th>\n",
       "      <th>date_created</th>\n",
       "      <th>delivery_available</th>\n",
       "      <th>img_num</th>\n",
       "      <th>lat</th>\n",
       "      <th>long</th>\n",
       "      <th>payment_available</th>\n",
       "      <th>price</th>\n",
       "      <th>product_type</th>\n",
       "      <th>region</th>\n",
       "      <th>sold_mode</th>\n",
       "      <th>subcategory_id</th>\n",
       "      <th>desc_prob</th>\n",
       "      <th>name_prob</th>\n",
       "    </tr>\n",
       "  </thead>\n",
       "  <tbody>\n",
       "    <tr>\n",
       "      <th>1</th>\n",
       "      <td>4</td>\n",
       "      <td>Краснодар</td>\n",
       "      <td>2018-10-08</td>\n",
       "      <td>False</td>\n",
       "      <td>3</td>\n",
       "      <td>45.0686</td>\n",
       "      <td>38.9518</td>\n",
       "      <td>True</td>\n",
       "      <td>500.0</td>\n",
       "      <td>1</td>\n",
       "      <td>Краснодарский край</td>\n",
       "      <td>1</td>\n",
       "      <td>410</td>\n",
       "      <td>0.270319</td>\n",
       "      <td>0.313682</td>\n",
       "    </tr>\n",
       "    <tr>\n",
       "      <th>2</th>\n",
       "      <td>4</td>\n",
       "      <td>Тюмень</td>\n",
       "      <td>2018-06-18</td>\n",
       "      <td>False</td>\n",
       "      <td>2</td>\n",
       "      <td>57.1840</td>\n",
       "      <td>65.5674</td>\n",
       "      <td>False</td>\n",
       "      <td>300.0</td>\n",
       "      <td>1</td>\n",
       "      <td>Тюменская область</td>\n",
       "      <td>1</td>\n",
       "      <td>405</td>\n",
       "      <td>0.517638</td>\n",
       "      <td>0.442623</td>\n",
       "    </tr>\n",
       "    <tr>\n",
       "      <th>4</th>\n",
       "      <td>9</td>\n",
       "      <td>Омск</td>\n",
       "      <td>2018-07-31</td>\n",
       "      <td>True</td>\n",
       "      <td>1</td>\n",
       "      <td>54.9889</td>\n",
       "      <td>73.4312</td>\n",
       "      <td>True</td>\n",
       "      <td>1100.0</td>\n",
       "      <td>1</td>\n",
       "      <td>Омская область</td>\n",
       "      <td>1</td>\n",
       "      <td>908</td>\n",
       "      <td>0.106516</td>\n",
       "      <td>0.151561</td>\n",
       "    </tr>\n",
       "    <tr>\n",
       "      <th>6</th>\n",
       "      <td>3</td>\n",
       "      <td>Санкт-Петербург</td>\n",
       "      <td>2018-04-17</td>\n",
       "      <td>False</td>\n",
       "      <td>4</td>\n",
       "      <td>59.9590</td>\n",
       "      <td>30.4877</td>\n",
       "      <td>True</td>\n",
       "      <td>5000.0</td>\n",
       "      <td>1</td>\n",
       "      <td>Ленинградская область</td>\n",
       "      <td>1</td>\n",
       "      <td>312</td>\n",
       "      <td>0.173627</td>\n",
       "      <td>0.259099</td>\n",
       "    </tr>\n",
       "    <tr>\n",
       "      <th>10</th>\n",
       "      <td>5</td>\n",
       "      <td>Москва</td>\n",
       "      <td>2018-02-09</td>\n",
       "      <td>False</td>\n",
       "      <td>2</td>\n",
       "      <td>55.6473</td>\n",
       "      <td>37.4118</td>\n",
       "      <td>True</td>\n",
       "      <td>2000.0</td>\n",
       "      <td>1</td>\n",
       "      <td>Московская область</td>\n",
       "      <td>1</td>\n",
       "      <td>504</td>\n",
       "      <td>0.083777</td>\n",
       "      <td>0.398533</td>\n",
       "    </tr>\n",
       "  </tbody>\n",
       "</table>\n",
       "</div>"
      ],
      "text/plain": [
       "    category_id             city date_created  delivery_available  img_num  \\\n",
       "1             4        Краснодар   2018-10-08               False        3   \n",
       "2             4           Тюмень   2018-06-18               False        2   \n",
       "4             9             Омск   2018-07-31                True        1   \n",
       "6             3  Санкт-Петербург   2018-04-17               False        4   \n",
       "10            5           Москва   2018-02-09               False        2   \n",
       "\n",
       "        lat     long  payment_available   price  product_type  \\\n",
       "1   45.0686  38.9518               True   500.0             1   \n",
       "2   57.1840  65.5674              False   300.0             1   \n",
       "4   54.9889  73.4312               True  1100.0             1   \n",
       "6   59.9590  30.4877               True  5000.0             1   \n",
       "10  55.6473  37.4118               True  2000.0             1   \n",
       "\n",
       "                   region  sold_mode  subcategory_id  desc_prob  name_prob  \n",
       "1      Краснодарский край          1             410   0.270319   0.313682  \n",
       "2       Тюменская область          1             405   0.517638   0.442623  \n",
       "4          Омская область          1             908   0.106516   0.151561  \n",
       "6   Ленинградская область          1             312   0.173627   0.259099  \n",
       "10     Московская область          1             504   0.083777   0.398533  "
      ]
     },
     "execution_count": 310,
     "metadata": {},
     "output_type": "execute_result"
    }
   ],
   "source": [
    "desc_proba = pd.read_csv('TRAIN_fastText_desc_posproba.csv', header=None)\n",
    "name_proba = pd.read_csv('TRAIN_fastText_name_posproba.csv', header=None)\n",
    "X['desc_prob'] = desc_proba.values\n",
    "X['name_prob'] = name_proba.values\n",
    "X.head()"
   ]
  },
  {
   "cell_type": "code",
   "execution_count": 311,
   "metadata": {
    "collapsed": true
   },
   "outputs": [],
   "source": [
    "def cat2proba_dict(values, labels):\n",
    "    cat_dict = {}\n",
    "    probas = []\n",
    "    for aval in np.unique(values):\n",
    "        labels_for_val = labels[values == aval]\n",
    "        n = len(labels_for_val)\n",
    "        n_1 = len(labels_for_val[labels_for_val == 1])\n",
    "        p = 1.0 * n_1 / n\n",
    "        cat_dict[aval] = p\n",
    "    return cat_dict\n",
    "\n",
    "def cat2proba(cat_dict, values):\n",
    "    probas = []\n",
    "    for aval in values:\n",
    "        if aval in cat_dict:\n",
    "            probas.append(cat_dict[aval])\n",
    "        else:\n",
    "            probas.append(0)\n",
    "    return np.array(probas)\n",
    "def date2ymd(date):\n",
    "    date_plitted = date.split('-')\n",
    "    year = int(date_plitted[0])\n",
    "    month = int(date_plitted[1])\n",
    "    day = int(date_plitted[2])\n",
    "    return [year, month, day]"
   ]
  },
  {
   "cell_type": "code",
   "execution_count": 312,
   "metadata": {
    "collapsed": true
   },
   "outputs": [],
   "source": [
    "category_id_dict = cat2proba_dict(df_train['category_id'].values, y)\n",
    "subcategory_id_dict = cat2proba_dict(df_train['subcategory_id'].values, y)\n",
    "\n",
    "city_dict = cat2proba_dict(df_train['city'].values, y)\n",
    "region_dict = cat2proba_dict(df_train['region'].values, y)"
   ]
  },
  {
   "cell_type": "code",
   "execution_count": 313,
   "metadata": {
    "collapsed": true
   },
   "outputs": [],
   "source": [
    "def preprocess(X, category_id_dict, subcategory_id_dict, city_dict, region_dict):\n",
    "    dates = np.array([date2ymd(date) for date in X.loc[:, 'date_created'].values])\n",
    "    #year is the same everywhere, getting rid of it\n",
    "    X.loc[:, 'month'] = dates[:, 1]\n",
    "    X.loc[:, 'day'] = dates[:, 2]\n",
    "    X = X.drop(['date_created'], axis=1)\n",
    "    \n",
    "    X.loc[:, 'city'] = cat2proba(city_dict, X['city'].values)\n",
    "    X.loc[:, 'region'] = cat2proba(region_dict, X['region'].values)\n",
    "    \n",
    "    X.loc[:, 'category_id'] = cat2proba(category_id_dict, X['category_id'].values)\n",
    "    X.loc[:, 'subcategory_id'] = cat2proba(category_id_dict, X['subcategory_id'].values)\n",
    "    \n",
    "    X.loc[:, 'delivery_available'] = X.loc[:, 'delivery_available'] * 1.\n",
    "    X.loc[:, 'payment_available'] = X.loc[:, 'payment_available'] * 1.\n",
    "    \n",
    "    return X"
   ]
  },
  {
   "cell_type": "code",
   "execution_count": 314,
   "metadata": {
    "collapsed": true
   },
   "outputs": [],
   "source": [
    "X = preprocess(X, category_id_dict, subcategory_id_dict, city_dict, region_dict)"
   ]
  },
  {
   "cell_type": "code",
   "execution_count": 315,
   "metadata": {},
   "outputs": [
    {
     "data": {
      "text/html": [
       "<div>\n",
       "<style scoped>\n",
       "    .dataframe tbody tr th:only-of-type {\n",
       "        vertical-align: middle;\n",
       "    }\n",
       "\n",
       "    .dataframe tbody tr th {\n",
       "        vertical-align: top;\n",
       "    }\n",
       "\n",
       "    .dataframe thead th {\n",
       "        text-align: right;\n",
       "    }\n",
       "</style>\n",
       "<table border=\"1\" class=\"dataframe\">\n",
       "  <thead>\n",
       "    <tr style=\"text-align: right;\">\n",
       "      <th></th>\n",
       "      <th>category_id</th>\n",
       "      <th>city</th>\n",
       "      <th>delivery_available</th>\n",
       "      <th>img_num</th>\n",
       "      <th>lat</th>\n",
       "      <th>long</th>\n",
       "      <th>payment_available</th>\n",
       "      <th>price</th>\n",
       "      <th>product_type</th>\n",
       "      <th>region</th>\n",
       "      <th>sold_mode</th>\n",
       "      <th>subcategory_id</th>\n",
       "      <th>desc_prob</th>\n",
       "      <th>name_prob</th>\n",
       "      <th>month</th>\n",
       "      <th>day</th>\n",
       "    </tr>\n",
       "  </thead>\n",
       "  <tbody>\n",
       "    <tr>\n",
       "      <th>1</th>\n",
       "      <td>0.258829</td>\n",
       "      <td>0.227393</td>\n",
       "      <td>0.0</td>\n",
       "      <td>3</td>\n",
       "      <td>45.0686</td>\n",
       "      <td>38.9518</td>\n",
       "      <td>1.0</td>\n",
       "      <td>500.0</td>\n",
       "      <td>1</td>\n",
       "      <td>0.226545</td>\n",
       "      <td>1</td>\n",
       "      <td>0</td>\n",
       "      <td>0.270319</td>\n",
       "      <td>0.313682</td>\n",
       "      <td>10</td>\n",
       "      <td>8</td>\n",
       "    </tr>\n",
       "    <tr>\n",
       "      <th>2</th>\n",
       "      <td>0.258829</td>\n",
       "      <td>0.226342</td>\n",
       "      <td>0.0</td>\n",
       "      <td>2</td>\n",
       "      <td>57.1840</td>\n",
       "      <td>65.5674</td>\n",
       "      <td>0.0</td>\n",
       "      <td>300.0</td>\n",
       "      <td>1</td>\n",
       "      <td>0.227446</td>\n",
       "      <td>1</td>\n",
       "      <td>0</td>\n",
       "      <td>0.517638</td>\n",
       "      <td>0.442623</td>\n",
       "      <td>6</td>\n",
       "      <td>18</td>\n",
       "    </tr>\n",
       "    <tr>\n",
       "      <th>4</th>\n",
       "      <td>0.162397</td>\n",
       "      <td>0.235826</td>\n",
       "      <td>1.0</td>\n",
       "      <td>1</td>\n",
       "      <td>54.9889</td>\n",
       "      <td>73.4312</td>\n",
       "      <td>1.0</td>\n",
       "      <td>1100.0</td>\n",
       "      <td>1</td>\n",
       "      <td>0.234856</td>\n",
       "      <td>1</td>\n",
       "      <td>0</td>\n",
       "      <td>0.106516</td>\n",
       "      <td>0.151561</td>\n",
       "      <td>7</td>\n",
       "      <td>31</td>\n",
       "    </tr>\n",
       "    <tr>\n",
       "      <th>6</th>\n",
       "      <td>0.237816</td>\n",
       "      <td>0.229844</td>\n",
       "      <td>0.0</td>\n",
       "      <td>4</td>\n",
       "      <td>59.9590</td>\n",
       "      <td>30.4877</td>\n",
       "      <td>1.0</td>\n",
       "      <td>5000.0</td>\n",
       "      <td>1</td>\n",
       "      <td>0.231020</td>\n",
       "      <td>1</td>\n",
       "      <td>0</td>\n",
       "      <td>0.173627</td>\n",
       "      <td>0.259099</td>\n",
       "      <td>4</td>\n",
       "      <td>17</td>\n",
       "    </tr>\n",
       "    <tr>\n",
       "      <th>10</th>\n",
       "      <td>0.238401</td>\n",
       "      <td>0.230473</td>\n",
       "      <td>0.0</td>\n",
       "      <td>2</td>\n",
       "      <td>55.6473</td>\n",
       "      <td>37.4118</td>\n",
       "      <td>1.0</td>\n",
       "      <td>2000.0</td>\n",
       "      <td>1</td>\n",
       "      <td>0.227684</td>\n",
       "      <td>1</td>\n",
       "      <td>0</td>\n",
       "      <td>0.083777</td>\n",
       "      <td>0.398533</td>\n",
       "      <td>2</td>\n",
       "      <td>9</td>\n",
       "    </tr>\n",
       "  </tbody>\n",
       "</table>\n",
       "</div>"
      ],
      "text/plain": [
       "    category_id      city  delivery_available  img_num      lat     long  \\\n",
       "1      0.258829  0.227393                 0.0        3  45.0686  38.9518   \n",
       "2      0.258829  0.226342                 0.0        2  57.1840  65.5674   \n",
       "4      0.162397  0.235826                 1.0        1  54.9889  73.4312   \n",
       "6      0.237816  0.229844                 0.0        4  59.9590  30.4877   \n",
       "10     0.238401  0.230473                 0.0        2  55.6473  37.4118   \n",
       "\n",
       "    payment_available   price  product_type    region  sold_mode  \\\n",
       "1                 1.0   500.0             1  0.226545          1   \n",
       "2                 0.0   300.0             1  0.227446          1   \n",
       "4                 1.0  1100.0             1  0.234856          1   \n",
       "6                 1.0  5000.0             1  0.231020          1   \n",
       "10                1.0  2000.0             1  0.227684          1   \n",
       "\n",
       "    subcategory_id  desc_prob  name_prob  month  day  \n",
       "1                0   0.270319   0.313682     10    8  \n",
       "2                0   0.517638   0.442623      6   18  \n",
       "4                0   0.106516   0.151561      7   31  \n",
       "6                0   0.173627   0.259099      4   17  \n",
       "10               0   0.083777   0.398533      2    9  "
      ]
     },
     "execution_count": 315,
     "metadata": {},
     "output_type": "execute_result"
    }
   ],
   "source": [
    "X.head()"
   ]
  },
  {
   "cell_type": "code",
   "execution_count": 331,
   "metadata": {},
   "outputs": [
    {
     "data": {
      "text/plain": [
       "(351281, 16)"
      ]
     },
     "execution_count": 331,
     "metadata": {},
     "output_type": "execute_result"
    }
   ],
   "source": [
    "X.shape"
   ]
  },
  {
   "cell_type": "code",
   "execution_count": 338,
   "metadata": {
    "collapsed": true
   },
   "outputs": [],
   "source": [
    "from sklearn.model_selection import train_test_split\n",
    "\n",
    "X_train, X_val, y_train, y_val = train_test_split(X, y, test_size=0.33, random_state=42, stratify=y)"
   ]
  },
  {
   "cell_type": "code",
   "execution_count": 339,
   "metadata": {
    "collapsed": true
   },
   "outputs": [],
   "source": [
    "from xgboost import XGBClassifier\n",
    "from sklearn.ensemble import RandomForestClassifier"
   ]
  },
  {
   "cell_type": "code",
   "execution_count": 340,
   "metadata": {},
   "outputs": [
    {
     "data": {
      "text/plain": [
       "XGBClassifier(base_score=0.5, booster='gbtree', colsample_bylevel=1,\n",
       "       colsample_bynode=1, colsample_bytree=0.7, gamma=0,\n",
       "       learning_rate=0.02, max_delta_step=0, max_depth=8,\n",
       "       min_child_weight=1, missing=None, n_estimators=200, n_jobs=3,\n",
       "       nthread=None, objective='binary:logistic', random_state=0,\n",
       "       reg_alpha=0, reg_lambda=1, scale_pos_weight=1.0, seed=None,\n",
       "       silent=None, subsample=1, verbosity=1)"
      ]
     },
     "execution_count": 340,
     "metadata": {},
     "output_type": "execute_result"
    }
   ],
   "source": [
    "# clf = RandomForestClassifier(n_estimators=500, n_jobs=3, class_weight='balanced', max_depth=4)\n",
    "clf = XGBClassifier(n_estimators=200, learning_rate=0.02, max_depth=8, n_jobs=3, colsample_bytree=0.7, scale_pos_weight=1.)\n",
    "clf.fit(X_train, y_train)"
   ]
  },
  {
   "cell_type": "code",
   "execution_count": 341,
   "metadata": {},
   "outputs": [
    {
     "name": "stdout",
     "output_type": "stream",
     "text": [
      "Test AUC:  0.7873901851817262\n"
     ]
    }
   ],
   "source": [
    "y_val_pred = clf.predict_proba(X_val)[:, 1]\n",
    "\n",
    "auc_val = roc_auc_score(y_val, y_val_pred)\n",
    "print(\"Test AUC: \", auc_val) # biased test auc"
   ]
  },
  {
   "cell_type": "markdown",
   "metadata": {},
   "source": [
    "## Transform test likewise"
   ]
  },
  {
   "cell_type": "code",
   "execution_count": 335,
   "metadata": {
    "scrolled": true
   },
   "outputs": [
    {
     "data": {
      "text/html": [
       "<div>\n",
       "<style scoped>\n",
       "    .dataframe tbody tr th:only-of-type {\n",
       "        vertical-align: middle;\n",
       "    }\n",
       "\n",
       "    .dataframe tbody tr th {\n",
       "        vertical-align: top;\n",
       "    }\n",
       "\n",
       "    .dataframe thead th {\n",
       "        text-align: right;\n",
       "    }\n",
       "</style>\n",
       "<table border=\"1\" class=\"dataframe\">\n",
       "  <thead>\n",
       "    <tr style=\"text-align: right;\">\n",
       "      <th></th>\n",
       "      <th>category_id</th>\n",
       "      <th>city</th>\n",
       "      <th>delivery_available</th>\n",
       "      <th>img_num</th>\n",
       "      <th>lat</th>\n",
       "      <th>long</th>\n",
       "      <th>payment_available</th>\n",
       "      <th>price</th>\n",
       "      <th>product_type</th>\n",
       "      <th>region</th>\n",
       "      <th>sold_mode</th>\n",
       "      <th>subcategory_id</th>\n",
       "      <th>desc_prob</th>\n",
       "      <th>name_prob</th>\n",
       "      <th>month</th>\n",
       "      <th>day</th>\n",
       "    </tr>\n",
       "  </thead>\n",
       "  <tbody>\n",
       "    <tr>\n",
       "      <th>0</th>\n",
       "      <td>0.162397</td>\n",
       "      <td>0.229716</td>\n",
       "      <td>1.0</td>\n",
       "      <td>3</td>\n",
       "      <td>55.2639</td>\n",
       "      <td>61.3972</td>\n",
       "      <td>1.0</td>\n",
       "      <td>650.0</td>\n",
       "      <td>1</td>\n",
       "      <td>0.229135</td>\n",
       "      <td>1</td>\n",
       "      <td>0</td>\n",
       "      <td>0.268471</td>\n",
       "      <td>0.172749</td>\n",
       "      <td>10</td>\n",
       "      <td>22</td>\n",
       "    </tr>\n",
       "    <tr>\n",
       "      <th>3</th>\n",
       "      <td>0.169870</td>\n",
       "      <td>0.248002</td>\n",
       "      <td>1.0</td>\n",
       "      <td>2</td>\n",
       "      <td>53.3426</td>\n",
       "      <td>83.7380</td>\n",
       "      <td>1.0</td>\n",
       "      <td>750.0</td>\n",
       "      <td>1</td>\n",
       "      <td>0.242036</td>\n",
       "      <td>1</td>\n",
       "      <td>0</td>\n",
       "      <td>0.057047</td>\n",
       "      <td>0.125106</td>\n",
       "      <td>11</td>\n",
       "      <td>9</td>\n",
       "    </tr>\n",
       "    <tr>\n",
       "      <th>8</th>\n",
       "      <td>0.293339</td>\n",
       "      <td>0.250707</td>\n",
       "      <td>0.0</td>\n",
       "      <td>4</td>\n",
       "      <td>52.0883</td>\n",
       "      <td>113.4982</td>\n",
       "      <td>1.0</td>\n",
       "      <td>5500.0</td>\n",
       "      <td>1</td>\n",
       "      <td>0.250206</td>\n",
       "      <td>1</td>\n",
       "      <td>0</td>\n",
       "      <td>0.231807</td>\n",
       "      <td>0.184615</td>\n",
       "      <td>11</td>\n",
       "      <td>27</td>\n",
       "    </tr>\n",
       "    <tr>\n",
       "      <th>9</th>\n",
       "      <td>0.237816</td>\n",
       "      <td>0.230473</td>\n",
       "      <td>1.0</td>\n",
       "      <td>2</td>\n",
       "      <td>55.6932</td>\n",
       "      <td>37.5684</td>\n",
       "      <td>1.0</td>\n",
       "      <td>100.0</td>\n",
       "      <td>1</td>\n",
       "      <td>0.227684</td>\n",
       "      <td>1</td>\n",
       "      <td>0</td>\n",
       "      <td>0.123092</td>\n",
       "      <td>0.070957</td>\n",
       "      <td>11</td>\n",
       "      <td>25</td>\n",
       "    </tr>\n",
       "    <tr>\n",
       "      <th>19</th>\n",
       "      <td>0.169870</td>\n",
       "      <td>0.215649</td>\n",
       "      <td>1.0</td>\n",
       "      <td>2</td>\n",
       "      <td>54.7648</td>\n",
       "      <td>83.0884</td>\n",
       "      <td>1.0</td>\n",
       "      <td>700.0</td>\n",
       "      <td>1</td>\n",
       "      <td>0.232747</td>\n",
       "      <td>1</td>\n",
       "      <td>0</td>\n",
       "      <td>0.316553</td>\n",
       "      <td>0.212875</td>\n",
       "      <td>11</td>\n",
       "      <td>4</td>\n",
       "    </tr>\n",
       "  </tbody>\n",
       "</table>\n",
       "</div>"
      ],
      "text/plain": [
       "    category_id      city  delivery_available  img_num      lat      long  \\\n",
       "0      0.162397  0.229716                 1.0        3  55.2639   61.3972   \n",
       "3      0.169870  0.248002                 1.0        2  53.3426   83.7380   \n",
       "8      0.293339  0.250707                 0.0        4  52.0883  113.4982   \n",
       "9      0.237816  0.230473                 1.0        2  55.6932   37.5684   \n",
       "19     0.169870  0.215649                 1.0        2  54.7648   83.0884   \n",
       "\n",
       "    payment_available   price  product_type    region  sold_mode  \\\n",
       "0                 1.0   650.0             1  0.229135          1   \n",
       "3                 1.0   750.0             1  0.242036          1   \n",
       "8                 1.0  5500.0             1  0.250206          1   \n",
       "9                 1.0   100.0             1  0.227684          1   \n",
       "19                1.0   700.0             1  0.232747          1   \n",
       "\n",
       "    subcategory_id  desc_prob  name_prob  month  day  \n",
       "0                0   0.268471   0.172749     10   22  \n",
       "3                0   0.057047   0.125106     11    9  \n",
       "8                0   0.231807   0.184615     11   27  \n",
       "9                0   0.123092   0.070957     11   25  \n",
       "19               0   0.316553   0.212875     11    4  "
      ]
     },
     "execution_count": 335,
     "metadata": {},
     "output_type": "execute_result"
    }
   ],
   "source": [
    "X_test = df_test.drop(['properties', 'product_id', 'owner_id', 'desc_text', 'name_text'], axis=1)\n",
    "desc_proba = pd.read_csv('TEST_fastText_desc_posproba.csv', header=None)\n",
    "name_proba = pd.read_csv('TEST_fastText_name_posproba.csv', header=None)\n",
    "X_test['desc_prob'] = desc_proba.values\n",
    "X_test['name_prob'] = name_proba.values\n",
    "X_test = preprocess(X_test, category_id_dict, subcategory_id_dict, city_dict, region_dict)\n",
    "X_test.head()"
   ]
  },
  {
   "cell_type": "code",
   "execution_count": 336,
   "metadata": {
    "collapsed": true
   },
   "outputs": [],
   "source": [
    "y_submit_pred = clf.predict_proba(X_test)[:, 1]\n",
    "\n",
    "product_id = df_test['product_id'].values\n",
    "data_submit = pd.DataFrame.from_dict({'product_id' : product_id, 'score' : y_submit_pred})\n",
    "data_submit.to_csv('./to_submit.csv', sep = ',', index = False)"
   ]
  },
  {
   "cell_type": "code",
   "execution_count": 337,
   "metadata": {},
   "outputs": [
    {
     "data": {
      "text/plain": [
       "(89251,)"
      ]
     },
     "execution_count": 337,
     "metadata": {},
     "output_type": "execute_result"
    }
   ],
   "source": [
    "y_submit_pred.shape"
   ]
  },
  {
   "cell_type": "markdown",
   "metadata": {
    "collapsed": true
   },
   "source": [
    "Scores 0.58 on the leaderboard :("
   ]
  }
 ],
 "metadata": {
  "kernelspec": {
   "display_name": "Python 3",
   "language": "python",
   "name": "python3"
  },
  "language_info": {
   "codemirror_mode": {
    "name": "ipython",
    "version": 3
   },
   "file_extension": ".py",
   "mimetype": "text/x-python",
   "name": "python",
   "nbconvert_exporter": "python",
   "pygments_lexer": "ipython3",
   "version": "3.6.3"
  },
  "toc": {
   "base_numbering": 1,
   "nav_menu": {},
   "number_sections": false,
   "sideBar": true,
   "skip_h1_title": false,
   "title_cell": "Table of Contents",
   "title_sidebar": "Contents",
   "toc_cell": false,
   "toc_position": {},
   "toc_section_display": true,
   "toc_window_display": false
  }
 },
 "nbformat": 4,
 "nbformat_minor": 2
}
